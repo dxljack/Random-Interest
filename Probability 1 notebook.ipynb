{
 "cells": [
  {
   "cell_type": "markdown",
   "metadata": {},
   "source": [
    "#### Coins with values 1 through N (inclusive) are placed into a bag. All the coins from the bag are iteratively drawn (without replacement) at random. For the first coin, you are paid the value of the coin. For subsequent coins, you are paid the absolute difference between the drawn coin and the previously drawn coin. For example, if you drew 5,3,2,4,1, your payments would be 5,2,1,2,3 for a total payment of 13.\n",
    "\n",
    "#### Please provide 5 digits of precision for all answers.\n",
    "\n",
    "#### What is the mean of your total payment for N=10? \n",
    "#### What is the standard deviation of your total payment for N=10? \n",
    "#### What is the mean of your total payment for N=20? \n",
    "#### What is the standard deviation of your total payment for N=20? \n",
    "#### What is the probability that your total payment is greater than or equal to 45 for N=10? \n",
    "#### What is the probability that your total payment is greater than or equal to 160 for N=20? \n",
    "#### In what language is the script written? \n",
    "#### Please provide the script used to compute your response (max 10000 characters)."
   ]
  },
  {
   "cell_type": "code",
   "execution_count": 3,
   "metadata": {},
   "outputs": [],
   "source": [
    "import numpy as np\n",
    "from numpy import array"
   ]
  },
  {
   "cell_type": "code",
   "execution_count": 95,
   "metadata": {},
   "outputs": [],
   "source": [
    "# Define a function to compute the Expected Value with respect to N.\n",
    "def expected(N):    \n",
    "    fir=0\n",
    "    for i in list(range(1,N+1)):\n",
    "        fir=fir+i\n",
    "    num=0\n",
    "    dem=0\n",
    "    for j in list(range(1,N)):\n",
    "        num=num+(N-j)*j\n",
    "        dem=dem+(N-j)\n",
    "    print((1/N)*fir+(N-1)*num/dem)"
   ]
  },
  {
   "cell_type": "code",
   "execution_count": 96,
   "metadata": {},
   "outputs": [
    {
     "name": "stdout",
     "output_type": "stream",
     "text": [
      "38.5\n"
     ]
    }
   ],
   "source": [
    "expected(10)"
   ]
  },
  {
   "cell_type": "code",
   "execution_count": 98,
   "metadata": {},
   "outputs": [
    {
     "name": "stdout",
     "output_type": "stream",
     "text": [
      "143.5\n"
     ]
    }
   ],
   "source": [
    "expected(20)"
   ]
  },
  {
   "cell_type": "code",
   "execution_count": null,
   "metadata": {},
   "outputs": [],
   "source": []
  }
 ],
 "metadata": {
  "kernelspec": {
   "display_name": "Python 3",
   "language": "python",
   "name": "python3"
  },
  "language_info": {
   "codemirror_mode": {
    "name": "ipython",
    "version": 3
   },
   "file_extension": ".py",
   "mimetype": "text/x-python",
   "name": "python",
   "nbconvert_exporter": "python",
   "pygments_lexer": "ipython3",
   "version": "3.7.4"
  }
 },
 "nbformat": 4,
 "nbformat_minor": 4
}
